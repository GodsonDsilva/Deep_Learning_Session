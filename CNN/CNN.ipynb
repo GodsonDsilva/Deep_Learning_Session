{
  "nbformat": 4,
  "nbformat_minor": 0,
  "metadata": {
    "colab": {
      "name": "CNN_Model.ipynb",
      "version": "0.3.2",
      "provenance": [],
      "collapsed_sections": []
    },
    "kernelspec": {
      "name": "python3",
      "display_name": "Python 3"
    },
    "accelerator": "GPU"
  },
  "cells": [
    {
      "metadata": {
        "id": "vlafsDhEivjn",
        "colab_type": "code",
        "outputId": "9de2a9a5-e4db-4190-88a3-9207b1863f78",
        "colab": {
          "base_uri": "https://localhost:8080/",
          "height": 124
        }
      },
      "cell_type": "code",
      "source": [
        "# Load the Drive helper and mount\n",
        "from google.colab import drive\n",
        "\n",
        "# This will prompt for authorization.\n",
        "drive.mount('/content/drive')"
      ],
      "execution_count": 1,
      "outputs": [
        {
          "output_type": "stream",
          "text": [
            "Go to this URL in a browser: https://accounts.google.com/o/oauth2/auth?client_id=947318989803-6bn6qk8qdgf4n4g3pfee6491hc0brc4i.apps.googleusercontent.com&redirect_uri=urn%3Aietf%3Awg%3Aoauth%3A2.0%3Aoob&scope=email%20https%3A%2F%2Fwww.googleapis.com%2Fauth%2Fdocs.test%20https%3A%2F%2Fwww.googleapis.com%2Fauth%2Fdrive%20https%3A%2F%2Fwww.googleapis.com%2Fauth%2Fdrive.photos.readonly%20https%3A%2F%2Fwww.googleapis.com%2Fauth%2Fpeopleapi.readonly&response_type=code\n",
            "\n",
            "Enter your authorization code:\n",
            "··········\n",
            "Mounted at /content/drive\n"
          ],
          "name": "stdout"
        }
      ]
    },
    {
      "metadata": {
        "id": "qsG39lhwixKl",
        "colab_type": "code",
        "colab": {
          "base_uri": "https://localhost:8080/",
          "height": 35
        },
        "outputId": "2b5de0ac-6137-44d4-a4e1-c391fd951972"
      },
      "cell_type": "code",
      "source": [
        "# Convolution Neural Networks\n",
        "\n",
        "from keras.models import Sequential\n",
        "from keras.layers import Conv2D,MaxPool2D,Flatten,Dense,Dropout\n"
      ],
      "execution_count": 2,
      "outputs": [
        {
          "output_type": "stream",
          "text": [
            "Using TensorFlow backend.\n"
          ],
          "name": "stderr"
        }
      ]
    },
    {
      "metadata": {
        "id": "jwf9dVmwofaB",
        "colab_type": "code",
        "colab": {}
      },
      "cell_type": "code",
      "source": [
        "# Part1: Building the CNN\n",
        "\n",
        "# intialize the CNN\n",
        "model = Sequential()\n",
        "\n",
        "# Step1 : Convolution Layer\n",
        "model.add(Conv2D(32,(3,3),input_shape=(64,64,3),activation='relu'))\n",
        "\n",
        "# Step2 : Pooling Layer\n",
        "model.add(MaxPool2D(pool_size=(2,2)))\n",
        "\n",
        "# Step3 : Flatten Layer\n",
        "model.add(Flatten())\n",
        "\n",
        "# Step4 : Full Connection layer\n",
        "model.add(Dense(units=128,activation='relu'))\n",
        "model.add(Dropout(0.4))\n",
        "model.add(Dense(units=128,activation='relu'))\n",
        "model.add(Dropout(0.4))\n",
        "model.add(Dense(units=1,activation='sigmoid'))\n",
        "\n",
        "# Compile the model\n",
        "model.compile(optimizer='Adam',loss='binary_crossentropy',metrics=['accuracy'])\n",
        "\n"
      ],
      "execution_count": 0,
      "outputs": []
    },
    {
      "metadata": {
        "id": "UJmG0tOgokw6",
        "colab_type": "code",
        "outputId": "9cd0bca5-c6ac-4ddf-9eed-ad33f7792c73",
        "colab": {
          "base_uri": "https://localhost:8080/",
          "height": 52
        }
      },
      "cell_type": "code",
      "source": [
        "# Part2 : Fitting the images to CNN model\n",
        "\n",
        "from keras.preprocessing.image import  ImageDataGenerator\n",
        "\n",
        "train_datagen = ImageDataGenerator(rescale=1./255,shear_range=0.2,zoom_range=0.2,\n",
        "                                  horizontal_flip=True)\n",
        "\n",
        "\n",
        "valid_datagen = ImageDataGenerator(rescale=1./255)\n",
        "\n",
        "train_generator = train_datagen.flow_from_directory('/content/drive/My Drive/Colab Notebooks/Thakur_Session_CNN/CNN/dataset/training_set',target_size=(64,64),\n",
        "                                                    class_mode='binary',batch_size=30,classes=['dog','cat'])\n",
        "\n",
        "valid_generator = valid_datagen.flow_from_directory('/content/drive/My Drive/Colab Notebooks/Thakur_Session_CNN/CNN/dataset/validation_set',target_size=(64,64),\n",
        "                                                    class_mode='binary',batch_size=10,classes=['dog','cat'])\n"
      ],
      "execution_count": 5,
      "outputs": [
        {
          "output_type": "stream",
          "text": [
            "Found 600 images belonging to 2 classes.\n",
            "Found 100 images belonging to 2 classes.\n"
          ],
          "name": "stdout"
        }
      ]
    },
    {
      "metadata": {
        "id": "208POSbfoo4R",
        "colab_type": "code",
        "outputId": "30180f1b-e8f3-4a26-9257-094c84f3a6aa",
        "colab": {
          "base_uri": "https://localhost:8080/",
          "height": 884
        }
      },
      "cell_type": "code",
      "source": [
        "\n",
        "# Fitting the data to the model\n",
        "\n",
        "model.fit_generator(train_generator,steps_per_epoch=10,epochs=25,verbose=2,validation_data=valid_generator,\n",
        "                    validation_steps=5)\n",
        "\n"
      ],
      "execution_count": 6,
      "outputs": [
        {
          "output_type": "stream",
          "text": [
            "Epoch 1/25\n",
            " - 59s - loss: 0.9773 - acc: 0.5033 - val_loss: 0.7026 - val_acc: 0.5200\n",
            "Epoch 2/25\n",
            " - 56s - loss: 0.7666 - acc: 0.4967 - val_loss: 0.6856 - val_acc: 0.5000\n",
            "Epoch 3/25\n",
            " - 2s - loss: 0.6906 - acc: 0.4967 - val_loss: 0.6687 - val_acc: 0.5200\n",
            "Epoch 4/25\n",
            " - 2s - loss: 0.6856 - acc: 0.5367 - val_loss: 0.6815 - val_acc: 0.6000\n",
            "Epoch 5/25\n",
            " - 2s - loss: 0.6767 - acc: 0.5467 - val_loss: 0.6884 - val_acc: 0.6000\n",
            "Epoch 6/25\n",
            " - 2s - loss: 0.6602 - acc: 0.6200 - val_loss: 0.6299 - val_acc: 0.6600\n",
            "Epoch 7/25\n",
            " - 2s - loss: 0.6623 - acc: 0.5767 - val_loss: 0.6033 - val_acc: 0.7200\n",
            "Epoch 8/25\n",
            " - 2s - loss: 0.6587 - acc: 0.6533 - val_loss: 0.6401 - val_acc: 0.6800\n",
            "Epoch 9/25\n",
            " - 2s - loss: 0.6243 - acc: 0.6567 - val_loss: 0.6215 - val_acc: 0.5800\n",
            "Epoch 10/25\n",
            " - 2s - loss: 0.6079 - acc: 0.6800 - val_loss: 0.6215 - val_acc: 0.7000\n",
            "Epoch 11/25\n",
            " - 2s - loss: 0.6049 - acc: 0.6900 - val_loss: 0.6128 - val_acc: 0.6800\n",
            "Epoch 12/25\n",
            " - 2s - loss: 0.5816 - acc: 0.6700 - val_loss: 0.5927 - val_acc: 0.6400\n",
            "Epoch 13/25\n",
            " - 2s - loss: 0.5596 - acc: 0.7200 - val_loss: 0.6086 - val_acc: 0.7000\n",
            "Epoch 14/25\n",
            " - 2s - loss: 0.5771 - acc: 0.7233 - val_loss: 0.5683 - val_acc: 0.7200\n",
            "Epoch 15/25\n",
            " - 2s - loss: 0.5638 - acc: 0.7300 - val_loss: 0.5703 - val_acc: 0.7000\n",
            "Epoch 16/25\n",
            " - 2s - loss: 0.5388 - acc: 0.7500 - val_loss: 0.6046 - val_acc: 0.6600\n",
            "Epoch 17/25\n",
            " - 2s - loss: 0.5212 - acc: 0.7467 - val_loss: 0.5658 - val_acc: 0.7400\n",
            "Epoch 18/25\n",
            " - 2s - loss: 0.4971 - acc: 0.7933 - val_loss: 0.6728 - val_acc: 0.6400\n",
            "Epoch 19/25\n",
            " - 2s - loss: 0.4404 - acc: 0.8200 - val_loss: 0.6190 - val_acc: 0.7200\n",
            "Epoch 20/25\n",
            " - 2s - loss: 0.5739 - acc: 0.7300 - val_loss: 0.5938 - val_acc: 0.6800\n",
            "Epoch 21/25\n",
            " - 2s - loss: 0.4974 - acc: 0.7967 - val_loss: 0.6083 - val_acc: 0.7000\n",
            "Epoch 22/25\n",
            " - 2s - loss: 0.4936 - acc: 0.7633 - val_loss: 0.6685 - val_acc: 0.6400\n",
            "Epoch 23/25\n",
            " - 2s - loss: 0.5291 - acc: 0.7567 - val_loss: 0.6761 - val_acc: 0.6400\n",
            "Epoch 24/25\n",
            " - 2s - loss: 0.4621 - acc: 0.7867 - val_loss: 0.5793 - val_acc: 0.6400\n",
            "Epoch 25/25\n",
            " - 2s - loss: 0.4319 - acc: 0.8033 - val_loss: 0.6676 - val_acc: 0.6200\n"
          ],
          "name": "stdout"
        },
        {
          "output_type": "execute_result",
          "data": {
            "text/plain": [
              "<keras.callbacks.History at 0x7f729c644390>"
            ]
          },
          "metadata": {
            "tags": []
          },
          "execution_count": 6
        }
      ]
    },
    {
      "metadata": {
        "id": "zPkqNeoupiXQ",
        "colab_type": "code",
        "colab": {}
      },
      "cell_type": "code",
      "source": [
        "model.save(\"cat_dog.model\")"
      ],
      "execution_count": 0,
      "outputs": []
    },
    {
      "metadata": {
        "id": "U2Fkud2g4cl2",
        "colab_type": "code",
        "outputId": "760217ea-9270-4c9f-eba2-53d2976b0e23",
        "colab": {
          "base_uri": "https://localhost:8080/",
          "height": 34
        }
      },
      "cell_type": "code",
      "source": [
        "test_datagen = ImageDataGenerator(rescale=1./255)\n",
        "\n",
        "test_generator = test_datagen.flow_from_directory('/content/drive/My Drive/Colab Notebooks/Thakur_Session_CNN/dataset/testing_set',target_size=(64,64),\n",
        "                                                    class_mode='binary',batch_size=10,classes=['dog','cat'])"
      ],
      "execution_count": 0,
      "outputs": [
        {
          "output_type": "stream",
          "text": [
            "Found 10 images belonging to 2 classes.\n"
          ],
          "name": "stdout"
        }
      ]
    },
    {
      "metadata": {
        "id": "9XgcMGXO4PH7",
        "colab_type": "code",
        "outputId": "cd6bfbc7-165e-4749-c7ff-24d75a6cd4d0",
        "colab": {
          "base_uri": "https://localhost:8080/",
          "height": 34
        }
      },
      "cell_type": "code",
      "source": [
        "test_data, test_labels = next(test_generator)\n",
        "test_labels\n",
        "\n",
        "\n",
        "# from keras.models import load_model\n",
        "# new_model = load_model('cat_dog.model')\n",
        "# pred = model.predict_generator(test_generator,steps=1)"
      ],
      "execution_count": 0,
      "outputs": [
        {
          "output_type": "execute_result",
          "data": {
            "text/plain": [
              "array([0., 0., 0., 0., 0., 0., 0., 0., 0., 0.], dtype=float32)"
            ]
          },
          "metadata": {
            "tags": []
          },
          "execution_count": 60
        }
      ]
    },
    {
      "metadata": {
        "id": "eP2vZ7aI5OOE",
        "colab_type": "code",
        "outputId": "76bc6c29-e091-4637-9a48-5b9b45b24082",
        "colab": {
          "base_uri": "https://localhost:8080/",
          "height": 212
        }
      },
      "cell_type": "code",
      "source": [
        "from sklearn.metrics import confusion_matrix \n",
        "\n",
        "results = confusion_matrix(actual, predicted) \n",
        "print(results)"
      ],
      "execution_count": 0,
      "outputs": [
        {
          "output_type": "error",
          "ename": "NameError",
          "evalue": "ignored",
          "traceback": [
            "\u001b[0;31m---------------------------------------------------------------------------\u001b[0m",
            "\u001b[0;31mNameError\u001b[0m                                 Traceback (most recent call last)",
            "\u001b[0;32m<ipython-input-55-14f064eae2e5>\u001b[0m in \u001b[0;36m<module>\u001b[0;34m()\u001b[0m\n\u001b[1;32m      1\u001b[0m \u001b[0;32mfrom\u001b[0m \u001b[0msklearn\u001b[0m\u001b[0;34m.\u001b[0m\u001b[0mmetrics\u001b[0m \u001b[0;32mimport\u001b[0m \u001b[0mconfusion_matrix\u001b[0m\u001b[0;34m\u001b[0m\u001b[0;34m\u001b[0m\u001b[0m\n\u001b[1;32m      2\u001b[0m \u001b[0;34m\u001b[0m\u001b[0m\n\u001b[0;32m----> 3\u001b[0;31m \u001b[0mresults\u001b[0m \u001b[0;34m=\u001b[0m \u001b[0mconfusion_matrix\u001b[0m\u001b[0;34m(\u001b[0m\u001b[0mactual\u001b[0m\u001b[0;34m,\u001b[0m \u001b[0mpredicted\u001b[0m\u001b[0;34m)\u001b[0m\u001b[0;34m\u001b[0m\u001b[0;34m\u001b[0m\u001b[0m\n\u001b[0m\u001b[1;32m      4\u001b[0m \u001b[0mprint\u001b[0m\u001b[0;34m(\u001b[0m\u001b[0mresults\u001b[0m\u001b[0;34m)\u001b[0m\u001b[0;34m\u001b[0m\u001b[0;34m\u001b[0m\u001b[0m\n",
            "\u001b[0;31mNameError\u001b[0m: name 'actual' is not defined"
          ]
        }
      ]
    },
    {
      "metadata": {
        "id": "6t8UMmD8ukrf",
        "colab_type": "code",
        "colab": {}
      },
      "cell_type": "code",
      "source": [
        "\n",
        "#Testing the model\n",
        "import tensorflow as tf\n",
        "\n",
        "import cv2\n",
        "\n",
        "\n",
        "def prepare(filepath):\n",
        "    img_size = 64\n",
        "    img_arr = cv2.imread(filepath)\n",
        "    new_arr = cv2.resize(img_arr,(img_size,img_size))\n",
        "    return new_arr.reshape(-1, img_size,img_size,3)\n",
        "\n",
        "model = tf.keras.models.load_model('cat_dog.model')\n",
        "\n"
      ],
      "execution_count": 0,
      "outputs": []
    },
    {
      "metadata": {
        "id": "rzegMjQsvAHp",
        "colab_type": "code",
        "colab": {}
      },
      "cell_type": "code",
      "source": [
        "prediction = model.predict(prepare('/content/drive/My Drive/Colab Notebooks/Thakur_Session_CNN/CNN/dataset/cat2.jpg'))"
      ],
      "execution_count": 0,
      "outputs": []
    },
    {
      "metadata": {
        "id": "4J-_WRMZvimi",
        "colab_type": "code",
        "outputId": "6a629993-ae26-44f8-b9c7-43a8b4c0833e",
        "colab": {
          "base_uri": "https://localhost:8080/",
          "height": 34
        }
      },
      "cell_type": "code",
      "source": [
        "prediction"
      ],
      "execution_count": 17,
      "outputs": [
        {
          "output_type": "execute_result",
          "data": {
            "text/plain": [
              "array([[1.]], dtype=float32)"
            ]
          },
          "metadata": {
            "tags": []
          },
          "execution_count": 17
        }
      ]
    },
    {
      "metadata": {
        "id": "isrOkfmOvvmC",
        "colab_type": "code",
        "outputId": "049b68c1-d3d9-492a-b4f3-00972d60ed16",
        "colab": {
          "base_uri": "https://localhost:8080/",
          "height": 961
        }
      },
      "cell_type": "code",
      "source": [
        "import keras\n",
        "\n",
        "# Define the model\n",
        "vgg16_model = keras.applications.VGG16()\n",
        "\n",
        "\n",
        "vgg16_model.summary()"
      ],
      "execution_count": 0,
      "outputs": [
        {
          "output_type": "stream",
          "text": [
            "Downloading data from https://github.com/fchollet/deep-learning-models/releases/download/v0.1/vgg16_weights_tf_dim_ordering_tf_kernels.h5\n",
            "553467904/553467096 [==============================] - 16s 0us/step\n",
            "_________________________________________________________________\n",
            "Layer (type)                 Output Shape              Param #   \n",
            "=================================================================\n",
            "input_1 (InputLayer)         (None, 224, 224, 3)       0         \n",
            "_________________________________________________________________\n",
            "block1_conv1 (Conv2D)        (None, 224, 224, 64)      1792      \n",
            "_________________________________________________________________\n",
            "block1_conv2 (Conv2D)        (None, 224, 224, 64)      36928     \n",
            "_________________________________________________________________\n",
            "block1_pool (MaxPooling2D)   (None, 112, 112, 64)      0         \n",
            "_________________________________________________________________\n",
            "block2_conv1 (Conv2D)        (None, 112, 112, 128)     73856     \n",
            "_________________________________________________________________\n",
            "block2_conv2 (Conv2D)        (None, 112, 112, 128)     147584    \n",
            "_________________________________________________________________\n",
            "block2_pool (MaxPooling2D)   (None, 56, 56, 128)       0         \n",
            "_________________________________________________________________\n",
            "block3_conv1 (Conv2D)        (None, 56, 56, 256)       295168    \n",
            "_________________________________________________________________\n",
            "block3_conv2 (Conv2D)        (None, 56, 56, 256)       590080    \n",
            "_________________________________________________________________\n",
            "block3_conv3 (Conv2D)        (None, 56, 56, 256)       590080    \n",
            "_________________________________________________________________\n",
            "block3_pool (MaxPooling2D)   (None, 28, 28, 256)       0         \n",
            "_________________________________________________________________\n",
            "block4_conv1 (Conv2D)        (None, 28, 28, 512)       1180160   \n",
            "_________________________________________________________________\n",
            "block4_conv2 (Conv2D)        (None, 28, 28, 512)       2359808   \n",
            "_________________________________________________________________\n",
            "block4_conv3 (Conv2D)        (None, 28, 28, 512)       2359808   \n",
            "_________________________________________________________________\n",
            "block4_pool (MaxPooling2D)   (None, 14, 14, 512)       0         \n",
            "_________________________________________________________________\n",
            "block5_conv1 (Conv2D)        (None, 14, 14, 512)       2359808   \n",
            "_________________________________________________________________\n",
            "block5_conv2 (Conv2D)        (None, 14, 14, 512)       2359808   \n",
            "_________________________________________________________________\n",
            "block5_conv3 (Conv2D)        (None, 14, 14, 512)       2359808   \n",
            "_________________________________________________________________\n",
            "block5_pool (MaxPooling2D)   (None, 7, 7, 512)         0         \n",
            "_________________________________________________________________\n",
            "flatten (Flatten)            (None, 25088)             0         \n",
            "_________________________________________________________________\n",
            "fc1 (Dense)                  (None, 4096)              102764544 \n",
            "_________________________________________________________________\n",
            "fc2 (Dense)                  (None, 4096)              16781312  \n",
            "_________________________________________________________________\n",
            "predictions (Dense)          (None, 1000)              4097000   \n",
            "=================================================================\n",
            "Total params: 138,357,544\n",
            "Trainable params: 138,357,544\n",
            "Non-trainable params: 0\n",
            "_________________________________________________________________\n"
          ],
          "name": "stdout"
        }
      ]
    },
    {
      "metadata": {
        "id": "OYtmNfPpDaUc",
        "colab_type": "code",
        "outputId": "4c63dbef-ef5d-40db-8f63-516fb4d49e51",
        "colab": {
          "base_uri": "https://localhost:8080/",
          "height": 34
        }
      },
      "cell_type": "code",
      "source": [
        "type(vgg16_model)"
      ],
      "execution_count": 0,
      "outputs": [
        {
          "output_type": "execute_result",
          "data": {
            "text/plain": [
              "keras.engine.training.Model"
            ]
          },
          "metadata": {
            "tags": []
          },
          "execution_count": 62
        }
      ]
    },
    {
      "metadata": {
        "id": "-V2hzEsXDkEF",
        "colab_type": "code",
        "colab": {}
      },
      "cell_type": "code",
      "source": [
        "our_model = Sequential()\n",
        "\n",
        "for layer in vgg16_model.layers:\n",
        "  our_model.add(layer)\n"
      ],
      "execution_count": 0,
      "outputs": []
    },
    {
      "metadata": {
        "id": "I6cCR9E2EBNq",
        "colab_type": "code",
        "outputId": "2e701382-205b-4bc9-92af-9a6ca3b502c7",
        "colab": {
          "base_uri": "https://localhost:8080/",
          "height": 34
        }
      },
      "cell_type": "code",
      "source": [
        "type(our_model)"
      ],
      "execution_count": 0,
      "outputs": [
        {
          "output_type": "execute_result",
          "data": {
            "text/plain": [
              "keras.engine.sequential.Sequential"
            ]
          },
          "metadata": {
            "tags": []
          },
          "execution_count": 71
        }
      ]
    },
    {
      "metadata": {
        "id": "LXBAEmCLEEwK",
        "colab_type": "code",
        "outputId": "382d2d83-3ecf-4968-dfc7-6c1fc335e802",
        "colab": {
          "base_uri": "https://localhost:8080/",
          "height": 874
        }
      },
      "cell_type": "code",
      "source": [
        "our_model.summary()"
      ],
      "execution_count": 0,
      "outputs": [
        {
          "output_type": "stream",
          "text": [
            "_________________________________________________________________\n",
            "Layer (type)                 Output Shape              Param #   \n",
            "=================================================================\n",
            "block1_conv1 (Conv2D)        (None, 224, 224, 64)      1792      \n",
            "_________________________________________________________________\n",
            "block1_conv2 (Conv2D)        (None, 224, 224, 64)      36928     \n",
            "_________________________________________________________________\n",
            "block1_pool (MaxPooling2D)   (None, 112, 112, 64)      0         \n",
            "_________________________________________________________________\n",
            "block2_conv1 (Conv2D)        (None, 112, 112, 128)     73856     \n",
            "_________________________________________________________________\n",
            "block2_conv2 (Conv2D)        (None, 112, 112, 128)     147584    \n",
            "_________________________________________________________________\n",
            "block2_pool (MaxPooling2D)   (None, 56, 56, 128)       0         \n",
            "_________________________________________________________________\n",
            "block3_conv1 (Conv2D)        (None, 56, 56, 256)       295168    \n",
            "_________________________________________________________________\n",
            "block3_conv2 (Conv2D)        (None, 56, 56, 256)       590080    \n",
            "_________________________________________________________________\n",
            "block3_conv3 (Conv2D)        (None, 56, 56, 256)       590080    \n",
            "_________________________________________________________________\n",
            "block3_pool (MaxPooling2D)   (None, 28, 28, 256)       0         \n",
            "_________________________________________________________________\n",
            "block4_conv1 (Conv2D)        (None, 28, 28, 512)       1180160   \n",
            "_________________________________________________________________\n",
            "block4_conv2 (Conv2D)        (None, 28, 28, 512)       2359808   \n",
            "_________________________________________________________________\n",
            "block4_conv3 (Conv2D)        (None, 28, 28, 512)       2359808   \n",
            "_________________________________________________________________\n",
            "block4_pool (MaxPooling2D)   (None, 14, 14, 512)       0         \n",
            "_________________________________________________________________\n",
            "block5_conv1 (Conv2D)        (None, 14, 14, 512)       2359808   \n",
            "_________________________________________________________________\n",
            "block5_conv2 (Conv2D)        (None, 14, 14, 512)       2359808   \n",
            "_________________________________________________________________\n",
            "block5_conv3 (Conv2D)        (None, 14, 14, 512)       2359808   \n",
            "_________________________________________________________________\n",
            "block5_pool (MaxPooling2D)   (None, 7, 7, 512)         0         \n",
            "_________________________________________________________________\n",
            "flatten (Flatten)            (None, 25088)             0         \n",
            "_________________________________________________________________\n",
            "fc1 (Dense)                  (None, 4096)              102764544 \n",
            "_________________________________________________________________\n",
            "fc2 (Dense)                  (None, 4096)              16781312  \n",
            "_________________________________________________________________\n",
            "predictions (Dense)          (None, 1000)              4097000   \n",
            "=================================================================\n",
            "Total params: 138,357,544\n",
            "Trainable params: 138,357,544\n",
            "Non-trainable params: 0\n",
            "_________________________________________________________________\n"
          ],
          "name": "stdout"
        }
      ]
    },
    {
      "metadata": {
        "id": "sIr3wfykEHkh",
        "colab_type": "code",
        "outputId": "f9e4ddc2-48bf-46df-9f00-0d53f9f5af0a",
        "colab": {
          "base_uri": "https://localhost:8080/",
          "height": 34
        }
      },
      "cell_type": "code",
      "source": [
        "our_model.layers.pop()"
      ],
      "execution_count": 0,
      "outputs": [
        {
          "output_type": "execute_result",
          "data": {
            "text/plain": [
              "<keras.layers.core.Dense at 0x7fb76df7b6a0>"
            ]
          },
          "metadata": {
            "tags": []
          },
          "execution_count": 77
        }
      ]
    },
    {
      "metadata": {
        "id": "xiwTnfeaETkv",
        "colab_type": "code",
        "outputId": "c8d6740c-fb4c-46ec-a026-dbff0924e502",
        "colab": {
          "base_uri": "https://localhost:8080/",
          "height": 874
        }
      },
      "cell_type": "code",
      "source": [
        "our_model.summary()"
      ],
      "execution_count": 0,
      "outputs": [
        {
          "output_type": "stream",
          "text": [
            "_________________________________________________________________\n",
            "Layer (type)                 Output Shape              Param #   \n",
            "=================================================================\n",
            "block1_conv1 (Conv2D)        (None, 224, 224, 64)      1792      \n",
            "_________________________________________________________________\n",
            "block1_conv2 (Conv2D)        (None, 224, 224, 64)      36928     \n",
            "_________________________________________________________________\n",
            "block1_pool (MaxPooling2D)   (None, 112, 112, 64)      0         \n",
            "_________________________________________________________________\n",
            "block2_conv1 (Conv2D)        (None, 112, 112, 128)     73856     \n",
            "_________________________________________________________________\n",
            "block2_conv2 (Conv2D)        (None, 112, 112, 128)     147584    \n",
            "_________________________________________________________________\n",
            "block2_pool (MaxPooling2D)   (None, 56, 56, 128)       0         \n",
            "_________________________________________________________________\n",
            "block3_conv1 (Conv2D)        (None, 56, 56, 256)       295168    \n",
            "_________________________________________________________________\n",
            "block3_conv2 (Conv2D)        (None, 56, 56, 256)       590080    \n",
            "_________________________________________________________________\n",
            "block3_conv3 (Conv2D)        (None, 56, 56, 256)       590080    \n",
            "_________________________________________________________________\n",
            "block3_pool (MaxPooling2D)   (None, 28, 28, 256)       0         \n",
            "_________________________________________________________________\n",
            "block4_conv1 (Conv2D)        (None, 28, 28, 512)       1180160   \n",
            "_________________________________________________________________\n",
            "block4_conv2 (Conv2D)        (None, 28, 28, 512)       2359808   \n",
            "_________________________________________________________________\n",
            "block4_conv3 (Conv2D)        (None, 28, 28, 512)       2359808   \n",
            "_________________________________________________________________\n",
            "block4_pool (MaxPooling2D)   (None, 14, 14, 512)       0         \n",
            "_________________________________________________________________\n",
            "block5_conv1 (Conv2D)        (None, 14, 14, 512)       2359808   \n",
            "_________________________________________________________________\n",
            "block5_conv2 (Conv2D)        (None, 14, 14, 512)       2359808   \n",
            "_________________________________________________________________\n",
            "block5_conv3 (Conv2D)        (None, 14, 14, 512)       2359808   \n",
            "_________________________________________________________________\n",
            "block5_pool (MaxPooling2D)   (None, 7, 7, 512)         0         \n",
            "_________________________________________________________________\n",
            "flatten (Flatten)            (None, 25088)             0         \n",
            "_________________________________________________________________\n",
            "fc1 (Dense)                  (None, 4096)              102764544 \n",
            "_________________________________________________________________\n",
            "fc2 (Dense)                  (None, 4096)              16781312  \n",
            "_________________________________________________________________\n",
            "predictions (Dense)          (None, 1000)              4097000   \n",
            "=================================================================\n",
            "Total params: 138,357,544\n",
            "Trainable params: 138,357,544\n",
            "Non-trainable params: 0\n",
            "_________________________________________________________________\n"
          ],
          "name": "stdout"
        }
      ]
    },
    {
      "metadata": {
        "id": "djCRwykmEdIL",
        "colab_type": "code",
        "outputId": "7549a7d5-d849-44df-c9d7-22d3e4edf7c2",
        "colab": {
          "base_uri": "https://localhost:8080/",
          "height": 162
        }
      },
      "cell_type": "code",
      "source": [
        "f\n",
        "new_model = Model(our_model.inputs, our_model.layers[-1].output)\n"
      ],
      "execution_count": 0,
      "outputs": [
        {
          "output_type": "error",
          "ename": "NameError",
          "evalue": "ignored",
          "traceback": [
            "\u001b[0;31m---------------------------------------------------------------------------\u001b[0m",
            "\u001b[0;31mNameError\u001b[0m                                 Traceback (most recent call last)",
            "\u001b[0;32m<ipython-input-80-9e7546e35991>\u001b[0m in \u001b[0;36m<module>\u001b[0;34m()\u001b[0m\n\u001b[0;32m----> 1\u001b[0;31m \u001b[0mnew_model\u001b[0m \u001b[0;34m=\u001b[0m \u001b[0mModel\u001b[0m\u001b[0;34m(\u001b[0m\u001b[0mour_model\u001b[0m\u001b[0;34m.\u001b[0m\u001b[0minputs\u001b[0m\u001b[0;34m,\u001b[0m \u001b[0mour_model\u001b[0m\u001b[0;34m.\u001b[0m\u001b[0mlayers\u001b[0m\u001b[0;34m[\u001b[0m\u001b[0;34m-\u001b[0m\u001b[0;36m1\u001b[0m\u001b[0;34m]\u001b[0m\u001b[0;34m.\u001b[0m\u001b[0moutput\u001b[0m\u001b[0;34m)\u001b[0m\u001b[0;34m\u001b[0m\u001b[0;34m\u001b[0m\u001b[0m\n\u001b[0m",
            "\u001b[0;31mNameError\u001b[0m: name 'Model' is not defined"
          ]
        }
      ]
    },
    {
      "metadata": {
        "id": "IgyFKRX_G_Mp",
        "colab_type": "code",
        "colab": {}
      },
      "cell_type": "code",
      "source": [
        ""
      ],
      "execution_count": 0,
      "outputs": []
    }
  ]
}